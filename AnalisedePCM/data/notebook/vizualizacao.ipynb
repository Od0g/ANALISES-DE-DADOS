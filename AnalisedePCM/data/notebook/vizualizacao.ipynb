{
 "cells": [
  {
   "cell_type": "code",
   "execution_count": 1,
   "metadata": {},
   "outputs": [
    {
     "name": "stdout",
     "output_type": "stream",
     "text": [
      "  os;setor;cod_maquina;maquina;divisao;equipamento;cod_equipamento;nome;data_abertura;data_parada;data_reinicio;data_fechamento;conclusao;situacao_os;situacao_maquina;turno;tipo_equipamento;detalhes;data_alteracao;usuario_alteracao;tipo_acao;motivo;oficina;;;;;;;;\n",
      "0  1;IMPRESSAO;203;IMPRESSORA 203 FLEXO TECH 8 CO...                                                                                                                                                                                                                    \n",
      "1  2;EXTRUSAO;109;109 MegaSteel monocamada;EXTRUS...                                                                                                                                                                                                                    \n",
      "2                         FALAR COM JEFERSON (TESTE)                                                                                                                                                                                                                    \n",
      "3  ;28/05/2018 19:28;4593329965;C;CORRETIVA DA PR...                                                                                                                                                                                                                    \n",
      "4  ;28/12/2018 17:13;50000;C;CORRETIVA DA PREVENT...                                                                                                                                                                                                                    \n",
      "<class 'pandas.core.frame.DataFrame'>\n",
      "RangeIndex: 9871 entries, 0 to 9870\n",
      "Data columns (total 1 columns):\n",
      " #   Column                                                                                                                                                                                                                                                                  Non-Null Count  Dtype \n",
      "---  ------                                                                                                                                                                                                                                                                  --------------  ----- \n",
      " 0   os;setor;cod_maquina;maquina;divisao;equipamento;cod_equipamento;nome;data_abertura;data_parada;data_reinicio;data_fechamento;conclusao;situacao_os;situacao_maquina;turno;tipo_equipamento;detalhes;data_alteracao;usuario_alteracao;tipo_acao;motivo;oficina;;;;;;;;  9871 non-null   object\n",
      "dtypes: object(1)\n",
      "memory usage: 77.2+ KB\n",
      "None\n"
     ]
    }
   ],
   "source": [
    "import pandas as pd\n",
    "\n",
    "file_path = \"/workspaces/ANALISES-DE-DADOS/AnalisedePCM/data/processed/indicadores.csv\"\n",
    "df = pd.read_csv(file_path)\n",
    "print(df.head())  # Mostrar as primeiras linhas\n",
    "print(df.info())  # Informações sobre colunas e tipos de dados\n"
   ]
  },
  {
   "cell_type": "code",
   "execution_count": 4,
   "metadata": {},
   "outputs": [
    {
     "name": "stdout",
     "output_type": "stream",
     "text": [
      "✅ Dados inseridos com sucesso!\n"
     ]
    }
   ],
   "source": [
    "import sqlite3\n",
    "\n",
    "conn = sqlite3.connect(\"etl_data.db\")  # Banco de dados local\n",
    "cursor = conn.cursor()\n",
    "\n",
    "# Criar a tabela (ajustar colunas conforme necessário)\n",
    "cursor.execute(\"\"\"\n",
    "    CREATE TABLE IF NOT EXISTS indicadores (\n",
    "        id INTEGER PRIMARY KEY AUTOINCREMENT,\n",
    "        coluna1 TEXT,\n",
    "        coluna2 TEXT\n",
    "    )\n",
    "\"\"\")\n",
    "\n",
    "# Carregar os dados do CSV para o banco\n",
    "df.to_sql(\"indicadores\", conn, if_exists=\"replace\", index=False)\n",
    "\n",
    "print(\"✅ Dados inseridos com sucesso!\")\n",
    "conn.close()\n"
   ]
  },
  {
   "cell_type": "markdown",
   "metadata": {},
   "source": [
    "Esse script irá: ✅ Listar os arquivos na pasta /processed\n",
    "✅ Exibir as primeiras linhas de cada arquivo\n",
    "✅ Mostrar a estrutura das colunas e os tipos de dados\n",
    "✅ Indicar se há algum erro na leitura"
   ]
  },
  {
   "cell_type": "code",
   "execution_count": 5,
   "metadata": {},
   "outputs": [
    {
     "name": "stdout",
     "output_type": "stream",
     "text": [
      "📂 Arquivos processados encontrados: ['indicadores4.csv', 'indicadores3.csv', 'indicadores2.csv', 'indicadores.csv']\n",
      "\n",
      "📌 Validando: indicadores4.csv\n",
      "  os;setor;cod_maquina;maquina;divisao;equipamento;cod_equipamento;nome;data_abertura;data_parada;data_reinicio;data_fechamento;conclusao;situacao_os;situacao_maquina;turno;tipo_equipamento;detalhes;data_alteracao;usuario_alteracao;tipo_acao;motivo;oficina;;;;;;;;;;;;;\n",
      "0  1;IMPRESSAO;203;IMPRESSORA 203 FLEXO TECH 8 CO...                                                                                                                                                                                                                         \n",
      "1  2;EXTRUSAO;109;109 MegaSteel monocamada;EXTRUS...                                                                                                                                                                                                                         \n",
      "2                         FALAR COM JEFERSON (TESTE)                                                                                                                                                                                                                         \n",
      "3  ;28/05/2018 19:28;4593329965;C;CORRETIVA DA PR...                                                                                                                                                                                                                         \n",
      "4  ;28/12/2018 17:13;50000;C;CORRETIVA DA PREVENT...                                                                                                                                                                                                                         \n",
      "<class 'pandas.core.frame.DataFrame'>\n",
      "RangeIndex: 9879 entries, 0 to 9878\n",
      "Data columns (total 1 columns):\n",
      " #   Column                                                                                                                                                                                                                                                                       Non-Null Count  Dtype \n",
      "---  ------                                                                                                                                                                                                                                                                       --------------  ----- \n",
      " 0   os;setor;cod_maquina;maquina;divisao;equipamento;cod_equipamento;nome;data_abertura;data_parada;data_reinicio;data_fechamento;conclusao;situacao_os;situacao_maquina;turno;tipo_equipamento;detalhes;data_alteracao;usuario_alteracao;tipo_acao;motivo;oficina;;;;;;;;;;;;;  9879 non-null   object\n",
      "dtypes: object(1)\n",
      "memory usage: 77.3+ KB\n",
      "None\n",
      "✔ indicadores4.csv validado com sucesso!\n",
      "\n",
      "📌 Validando: indicadores3.csv\n",
      "  nome;os;atividade;descricao;inicio;fim;maquina;desc_maquina;setor;descricao2;data_fechamento;data_abertura;situação_os;oficina2;tempo_trabalhado\n",
      "0  PERCILIO MANOEL FRANCISCO;1;2;CORRETIVA DA PRE...                                                                                              \n",
      "1  PROJEDATA - JEFERSON APARECIDO DOS REIS;2;2;CO...                                                                                              \n",
      "2  PERCILIO MANOEL FRANCISCO;3;2;CORRETIVA DA PRE...                                                                                              \n",
      "3  MARCOS ROBERTO RODRIGUES;4;3;CORRETIVA;31/05/2...                                                                                              \n",
      "4  CLEITON ADRIANO DE JESUS;4;3;CORRETIVA;31/05/2...                                                                                              \n",
      "<class 'pandas.core.frame.DataFrame'>\n",
      "RangeIndex: 7473 entries, 0 to 7472\n",
      "Data columns (total 1 columns):\n",
      " #   Column                                                                                                                                            Non-Null Count  Dtype \n",
      "---  ------                                                                                                                                            --------------  ----- \n",
      " 0   nome;os;atividade;descricao;inicio;fim;maquina;desc_maquina;setor;descricao2;data_fechamento;data_abertura;situação_os;oficina2;tempo_trabalhado  7473 non-null   object\n",
      "dtypes: object(1)\n",
      "memory usage: 58.5+ KB\n",
      "None\n",
      "✔ indicadores3.csv validado com sucesso!\n",
      "\n",
      "📌 Validando: indicadores2.csv\n",
      "   sequencia;setor;maquina;manutencao.tipo;os;situacao;data.prog.inicio;data.prog.fim;data.real.inicio;obs;data\n",
      "0                                             3333.0                                                           \n",
      "1                                             9012.0                                                           \n",
      "2                                             9128.0                                                           \n",
      "3                                             4897.0                                                           \n",
      "4                                             5882.0                                                           \n",
      "<class 'pandas.core.frame.DataFrame'>\n",
      "RangeIndex: 44 entries, 0 to 43\n",
      "Data columns (total 1 columns):\n",
      " #   Column                                                                                                        Non-Null Count  Dtype  \n",
      "---  ------                                                                                                        --------------  -----  \n",
      " 0   sequencia;setor;maquina;manutencao.tipo;os;situacao;data.prog.inicio;data.prog.fim;data.real.inicio;obs;data  44 non-null     float64\n",
      "dtypes: float64(1)\n",
      "memory usage: 484.0 bytes\n",
      "None\n",
      "✔ indicadores2.csv validado com sucesso!\n",
      "\n",
      "📌 Validando: indicadores.csv\n",
      "  os;setor;cod_maquina;maquina;divisao;equipamento;cod_equipamento;nome;data_abertura;data_parada;data_reinicio;data_fechamento;conclusao;situacao_os;situacao_maquina;turno;tipo_equipamento;detalhes;data_alteracao;usuario_alteracao;tipo_acao;motivo;oficina;;;;;;;;\n",
      "0  1;IMPRESSAO;203;IMPRESSORA 203 FLEXO TECH 8 CO...                                                                                                                                                                                                                    \n",
      "1  2;EXTRUSAO;109;109 MegaSteel monocamada;EXTRUS...                                                                                                                                                                                                                    \n",
      "2                         FALAR COM JEFERSON (TESTE)                                                                                                                                                                                                                    \n",
      "3  ;28/05/2018 19:28;4593329965;C;CORRETIVA DA PR...                                                                                                                                                                                                                    \n",
      "4  ;28/12/2018 17:13;50000;C;CORRETIVA DA PREVENT...                                                                                                                                                                                                                    \n",
      "<class 'pandas.core.frame.DataFrame'>\n",
      "RangeIndex: 9871 entries, 0 to 9870\n",
      "Data columns (total 1 columns):\n",
      " #   Column                                                                                                                                                                                                                                                                  Non-Null Count  Dtype \n",
      "---  ------                                                                                                                                                                                                                                                                  --------------  ----- \n",
      " 0   os;setor;cod_maquina;maquina;divisao;equipamento;cod_equipamento;nome;data_abertura;data_parada;data_reinicio;data_fechamento;conclusao;situacao_os;situacao_maquina;turno;tipo_equipamento;detalhes;data_alteracao;usuario_alteracao;tipo_acao;motivo;oficina;;;;;;;;  9871 non-null   object\n",
      "dtypes: object(1)\n",
      "memory usage: 77.2+ KB\n",
      "None\n",
      "✔ indicadores.csv validado com sucesso!\n",
      "\n"
     ]
    }
   ],
   "source": [
    "import pandas as pd\n",
    "import os\n",
    "\n",
    "# Caminho da pasta processada\n",
    "processed_dir = \"/workspaces/ANALISES-DE-DADOS/AnalisedePCM/data/processed\"\n",
    "\n",
    "# Listar os arquivos na pasta processada\n",
    "files = os.listdir(processed_dir)\n",
    "print(f\"📂 Arquivos processados encontrados: {files}\\n\")\n",
    "\n",
    "# Validar cada arquivo\n",
    "for file in files:\n",
    "    file_path = os.path.join(processed_dir, file)\n",
    "    print(f\"📌 Validando: {file}\")\n",
    "\n",
    "    try:\n",
    "        df = pd.read_csv(file_path)\n",
    "        print(df.head())  # Mostrar as primeiras linhas\n",
    "        print(df.info())  # Informações sobre colunas e tipos de dados\n",
    "        print(f\"✔ {file} validado com sucesso!\\n\")\n",
    "    except Exception as e:\n",
    "        print(f\"❌ Erro ao validar {file}: {e}\\n\")\n"
   ]
  }
 ],
 "metadata": {
  "kernelspec": {
   "display_name": "Python 3",
   "language": "python",
   "name": "python3"
  },
  "language_info": {
   "codemirror_mode": {
    "name": "ipython",
    "version": 3
   },
   "file_extension": ".py",
   "mimetype": "text/x-python",
   "name": "python",
   "nbconvert_exporter": "python",
   "pygments_lexer": "ipython3",
   "version": "3.12.1"
  }
 },
 "nbformat": 4,
 "nbformat_minor": 2
}
